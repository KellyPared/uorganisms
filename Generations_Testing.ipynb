{
  "nbformat": 4,
  "nbformat_minor": 0,
  "metadata": {
    "colab": {
      "name": "Generations Testing.ipynb",
      "version": "0.3.2",
      "provenance": [],
      "include_colab_link": true
    },
    "kernelspec": {
      "display_name": "Python 3",
      "language": "python",
      "name": "python3"
    }
  },
  "cells": [
    {
      "cell_type": "markdown",
      "metadata": {
        "id": "view-in-github",
        "colab_type": "text"
      },
      "source": [
        "<a href=\"https://colab.research.google.com/github/seantibor/uorganisms/blob/master/Generations_Testing.ipynb\" target=\"_parent\"><img src=\"https://colab.research.google.com/assets/colab-badge.svg\" alt=\"Open In Colab\"/></a>"
      ]
    },
    {
      "metadata": {
        "id": "xHZcPOlD_SOA",
        "colab_type": "text"
      },
      "cell_type": "markdown",
      "source": [
        "# Python Simple Genetics Simulator\n",
        "## by Kelly Paredes and Sean Tibor\n",
        "\n",
        "This notebook is a simple genetics simulator written in Python. It is used to explore how population size and reproduction affect the size and outcome of the population over time. \n",
        "\n",
        "Transmission of genes from one generation to the next, (or the passing of genes from parent to offspring) is affected by where a species lives. Sometimes animals die from disease, predators or loss of habitat, other times animals will migrate.  Either way, the size of a population is a very important part when looking at (analyzing) genetics.\n",
        "\n",
        "Random changes in populations sometimes will cause a genetic drift. \n",
        "\n",
        "**Answer these questions:**\n",
        "1. What is [genetic drift](https://kids.kiddle.co/Genetic_drift)?\n",
        "2. What does genetic drift often cause?\n",
        "3. How does population size affect genetic drift?\n",
        "\n",
        "Hint: You can answer the questions in this section by double-clicking inside this box. You can type your answers below the questions in the editor on the left side.\n",
        "\n",
        "\n",
        "1.\n",
        "\n"
      ]
    },
    {
      "metadata": {
        "id": "SGhOanU3DCn9",
        "colab_type": "text"
      },
      "cell_type": "markdown",
      "source": [
        "# Setting Up Our Simulation\n",
        "\n",
        "The notebook you're using right now is a live simulation that will run Python code for you to explore genetic variation. You'll see two types of content on this page: code blocks and text blocks. Code blocks can be run to produce an output. Text blocks can't be run.\n",
        "\n",
        "### The first thing we need to do is set up our simulation environment with some necessary code. \n",
        "\n",
        "Click on the block below to activate it. Then press the play button next to the code block below to get it to run. While the code is running, you'll see the [*] symbol show up next to your code. Once the code block is finished running, the code symbol will change to something like [3]. \n",
        "\n",
        "You may see some text output in the area below the block. You can ignore this output for now. In other blocks, this output will show us the results of our processing."
      ]
    },
    {
      "metadata": {
        "id": "B26hgmSy_SOD",
        "colab_type": "code",
        "colab": {}
      },
      "cell_type": "code",
      "source": [
        "!git init\n",
        "!git remote add origin https://github.com/seantibor/uorganisms\n",
        "!git pull origin master\n",
        "  \n",
        "import sys\n",
        "sys.path.append('lib')\n",
        "import generations\n",
        "from organisms import Organism\n",
        "import pandas as pd\n",
        "import matplotlib.pyplot as plt\n"
      ],
      "execution_count": 0,
      "outputs": []
    },
    {
      "metadata": {
        "id": "KkShzXRgyn3Y",
        "colab_type": "text"
      },
      "cell_type": "markdown",
      "source": [
        "# Changing the Code"
      ]
    },
    {
      "metadata": {
        "id": "esBaPpkE_SOI",
        "colab_type": "text"
      },
      "cell_type": "markdown",
      "source": [
        "### This code has a few variables that can be changed by you. It is important that as a scientist, you only change ONE variable at a time. The variables are defined here:\n",
        "\n",
        "\n",
        "* INITIAL_POP: The initial population size of organisms. This is the number of species living together in an area. This is a mix of both male and female species. Each species/organism in this population have traits that are chosen at random.\n",
        "\n",
        "* GENERATIONS: The is the number of generations that the population will reproduce. For example, from your great granparents to you, that is 4 generations.  You can simulate as many times as you want, but the more generations you have, the longer the code will take to run. You can edit the number between 10- 500. Each organism will reproduce with only one organism of the opposite gender in its generation and will produce a random \"family_size\".\n",
        "\n",
        "* POPULATION_CAP: This is the maximum number of organisms in a generation. Sometimes populations are controlled in real life because an animal predator may no longer exist, there are \"too\" many organisms and not enough habitat or food or humans may want to just manage the numbers. Therefore, in this simulation any extra organisms will be culled (killed off) once the population cap is reached. This also has the practical benefit of keeping our simulation from taking too long to run.\n",
        "\n",
        "---\n",
        "### These next two variables should be changed with caution! \n",
        "These numbers affect statistics. Currently the family size is set to an average number with a standard deviation. For humans that average family time changes over time. Currently [as of 2014, mothers in the US have an average of 2.4 children](http://www.pewsocialtrends.org/2015/05/07/family-size-among-mothers/), compared to this simulation's default reproduction rate of 2.05.\n",
        "\n",
        "* FAMILY_SIZE: The [mean number](https://www.robertniles.com/stats/mean.shtml) of offspring from a reproductive pair.\n",
        "* FAMILY_STDEV: The [standard deviation](https://www.robertniles.com/stats/stdev.shtml), is a number used to quantify a variation of family size.\n"
      ]
    },
    {
      "metadata": {
        "id": "dXqiOCAv_SOK",
        "colab_type": "code",
        "colab": {}
      },
      "cell_type": "code",
      "source": [
        "INITIAL_POP = 1000\n",
        "GENERATIONS = 500\n",
        "POPULATION_CAP = 2000\n",
        "FAMILY_SIZE = 2.05\n",
        "FAMILY_STDEV = 0.9\n",
        "POPULATIONS_CONTROL = None\n",
        "print('Parameters established.')"
      ],
      "execution_count": 0,
      "outputs": []
    },
    {
      "metadata": {
        "id": "a2H4cT3MzAon",
        "colab_type": "text"
      },
      "cell_type": "markdown",
      "source": [
        "# Running the Simulation"
      ]
    },
    {
      "metadata": {
        "id": "TZYgzQ9n_SOS",
        "colab_type": "text"
      },
      "cell_type": "markdown",
      "source": [
        "The section below will show the simulation of each generation. You'll see the a progress bar in blue while the simulation is running. When the simulation is finished, the bar will turn green.\n",
        "\n",
        "## How it works\n",
        "The algorithm in the computer program is written to randomly choose a male and female organism for reproduction. The number of offspring from this reproduction is a not the same each time. It is a normalized number, which means that it has been calculated with a variant number of offspring using the FAMILY_SIZE and FAMILY_STDEV. Therefore each family will have a different number of individuals.\n",
        "\n",
        "In addition, if there aren't an equal number of male and female organisms, or the total number of new organisms exceeds the population_cap, the remaining organisms are not allowed to reproduce.\n",
        "\n",
        "For example, if there are 513 males and 487 females in the initial population, there will only be 487 reproductive pairs and 26 males will not be allowed to reproduce.\n",
        "\n",
        "**Note: If your progress bar turns red and stops, that means that your population crashed! Move on to the next section to see what happened.**"
      ]
    },
    {
      "metadata": {
        "id": "MHTrBhTo_SOT",
        "colab_type": "code",
        "colab": {}
      },
      "cell_type": "code",
      "source": [
        "generations.test_run(INITIAL_POP, GENERATIONS, POPULATION_CAP, FAMILY_SIZE, FAMILY_STDEV)"
      ],
      "execution_count": 0,
      "outputs": []
    },
    {
      "metadata": {
        "id": "DhaOnAAs_SOb",
        "colab_type": "text"
      },
      "cell_type": "markdown",
      "source": [
        "# Generating Trend Charts\n",
        "## Total Population Size with Color Genotype\n",
        "First, we will chart the total population size with a breakdown of the number of organisms with each color gene pair. Recall the difference between BB, Bb, and bb.\n",
        "\n",
        "**Answer these questions:**\n",
        "\n",
        "1. What does each of these genotypes represent?\n",
        "2. What do you notice about the percentages of each genotype? How does this compare to the percentages from a punnett square? Explain your answer.\n",
        "3. Why do you think that the percentages and numbers are not always consistent? Explain what you think can cause the changes between the numbers of BB, Bb, and bb over time."
      ]
    },
    {
      "metadata": {
        "id": "2E6yeZUN_SOb",
        "colab_type": "code",
        "colab": {}
      },
      "cell_type": "code",
      "source": [
        "overall_stats = generations.get_overall_stats()\n",
        "\n",
        "# create a pandas dataframe from the overall statistics\n",
        "df = pd.DataFrame.from_dict(overall_stats)\n",
        "df.set_index('gen')\n",
        "\n",
        "# plot the color genes\n",
        "ax = df.plot(y=['total_pop', 'BB', 'Bb', 'bb'])\n",
        "ax.set_ylabel('Organisms')\n",
        "ax.set_xlabel('Generations')\n",
        "plt.show()"
      ],
      "execution_count": 0,
      "outputs": []
    },
    {
      "metadata": {
        "id": "Y-XqwIitwQ5A",
        "colab_type": "text"
      },
      "cell_type": "markdown",
      "source": [
        "## Phenotype Percentages \n",
        "\n",
        "The chart below shows the percentages of the phenotype (Blue or Yellow) produced after \"X\" generations of reproduction and a capped population.\n",
        "\n",
        "**Answer these questions:**\n",
        "\n",
        "1.   What is the phenotype percentage? How does this compare to what you know from punnett squares? Explain your answer.\n",
        "2.    Do you notice any differences of the phenotype in the graph? Why or why not do you think this occured?\n",
        "3. Why would phenotypes change in nature, naturally in humans or in animals?\n",
        "\n",
        "\n"
      ]
    },
    {
      "metadata": {
        "id": "kwUU1erJ_SOg",
        "colab_type": "code",
        "colab": {}
      },
      "cell_type": "code",
      "source": [
        "# plot the phenotype percentages by generation\n",
        "df['BluePct'] = df['blue'] / df['total_pop'] * 100\n",
        "df['YellowPct'] = df['yellow'] / df['total_pop'] * 100\n",
        "\n",
        "ax = df.plot(y=['BluePct', 'YellowPct'])\n",
        "ax.set_ylabel('% of Total Population')\n",
        "ax.set_xlabel('Generations')\n",
        "plt.show()"
      ],
      "execution_count": 0,
      "outputs": []
    },
    {
      "metadata": {
        "id": "2FvlgUxVw9hW",
        "colab_type": "text"
      },
      "cell_type": "markdown",
      "source": [
        "## Males and Females per Generation\n",
        "The chart below shows the total population and the comparison of males to females in the population.\n",
        "\n",
        "**Answer the questions:**\n",
        "\n",
        "\n",
        "1.   Is there a change in the number of males to females? Why or why not? \n",
        "2.   Look at the two charts from the [World Bank](https://data.worldbank.org/indicator/SP.POP.TOTL.MA.IN) You can see the total number of males and total numbers of females. What do you notice about this data compared to the data in these charts?\n",
        "\n",
        "\n"
      ]
    },
    {
      "metadata": {
        "id": "tPTNy2yR_SOk",
        "colab_type": "code",
        "colab": {}
      },
      "cell_type": "code",
      "source": [
        "ax = df.plot(y=['total_pop', 'male', 'female'])\n",
        "ax.set_ylabel('Organisms')\n",
        "ax.set_xlabel('Generations')\n",
        "plt.show()"
      ],
      "execution_count": 0,
      "outputs": []
    },
    {
      "metadata": {
        "id": "a0LVkSuKwkCj",
        "colab_type": "text"
      },
      "cell_type": "markdown",
      "source": [
        "# Running the Simulation Again\n",
        "\n",
        "What happens if you run this simulation again? Will you get the same result?\n",
        "\n",
        "Go back to the [Running the Simulation](#Running-the-Simulation) section and run the same simulation again with the same parameters. Do you get the same results?\n",
        "\n",
        "**If not, why?**\n",
        "\n",
        "\n",
        "What happens when you change the parameters in the [Changing the Code](#Changing-the-Code) section?"
      ]
    }
  ]
}